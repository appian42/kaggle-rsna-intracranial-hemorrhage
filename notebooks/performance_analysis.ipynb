{
 "cells": [
  {
   "cell_type": "code",
   "execution_count": 1,
   "id": "living-survivor",
   "metadata": {},
   "outputs": [],
   "source": [
    "import os, sys\n",
    "\n",
    "module_path = os.path.abspath(os.path.join('..'))\n",
    "if module_path not in sys.path:\n",
    "    sys.path.append(module_path)\n",
    "\n",
    "os.chdir(\"..\")\n",
    "\n",
    "import numpy as np\n",
    "import pandas as pd\n",
    "import sklearn.metrics as skm"
   ]
  },
  {
   "cell_type": "code",
   "execution_count": 2,
   "id": "presidential-kruger",
   "metadata": {},
   "outputs": [
    {
     "data": {
      "text/plain": [
       "(485, 7)"
      ]
     },
     "execution_count": 2,
     "metadata": {},
     "output_type": "execute_result"
    }
   ],
   "source": [
    "preds = pd.read_csv(\"input/preds_by_case.csv\")\n",
    "preds.shape"
   ]
  },
  {
   "cell_type": "code",
   "execution_count": 3,
   "id": "corresponding-captain",
   "metadata": {},
   "outputs": [
    {
     "name": "stdout",
     "output_type": "stream",
     "text": [
      "(491, 19)\n"
     ]
    },
    {
     "data": {
      "text/html": [
       "<div>\n",
       "<style scoped>\n",
       "    .dataframe tbody tr th:only-of-type {\n",
       "        vertical-align: middle;\n",
       "    }\n",
       "\n",
       "    .dataframe tbody tr th {\n",
       "        vertical-align: top;\n",
       "    }\n",
       "\n",
       "    .dataframe thead th {\n",
       "        text-align: right;\n",
       "    }\n",
       "</style>\n",
       "<table border=\"1\" class=\"dataframe\">\n",
       "  <thead>\n",
       "    <tr style=\"text-align: right;\">\n",
       "      <th></th>\n",
       "      <th>name</th>\n",
       "      <th>R1:ICH</th>\n",
       "      <th>R1:IPH</th>\n",
       "      <th>R1:IVH</th>\n",
       "      <th>R1:SDH</th>\n",
       "      <th>R1:EDH</th>\n",
       "      <th>R1:SAH</th>\n",
       "      <th>R2:ICH</th>\n",
       "      <th>R2:IPH</th>\n",
       "      <th>R2:IVH</th>\n",
       "      <th>R2:SDH</th>\n",
       "      <th>R2:EDH</th>\n",
       "      <th>R2:SAH</th>\n",
       "      <th>R3:ICH</th>\n",
       "      <th>R3:IPH</th>\n",
       "      <th>R3:IVH</th>\n",
       "      <th>R3:SDH</th>\n",
       "      <th>R3:EDH</th>\n",
       "      <th>R3:SAH</th>\n",
       "    </tr>\n",
       "  </thead>\n",
       "  <tbody>\n",
       "    <tr>\n",
       "      <th>0</th>\n",
       "      <td>CQ500-CT-0</td>\n",
       "      <td>1</td>\n",
       "      <td>0</td>\n",
       "      <td>0</td>\n",
       "      <td>0</td>\n",
       "      <td>0</td>\n",
       "      <td>1</td>\n",
       "      <td>0</td>\n",
       "      <td>0</td>\n",
       "      <td>0</td>\n",
       "      <td>0</td>\n",
       "      <td>0</td>\n",
       "      <td>0</td>\n",
       "      <td>0</td>\n",
       "      <td>0</td>\n",
       "      <td>0</td>\n",
       "      <td>0</td>\n",
       "      <td>0</td>\n",
       "      <td>0</td>\n",
       "    </tr>\n",
       "    <tr>\n",
       "      <th>1</th>\n",
       "      <td>CQ500-CT-1</td>\n",
       "      <td>1</td>\n",
       "      <td>1</td>\n",
       "      <td>0</td>\n",
       "      <td>0</td>\n",
       "      <td>0</td>\n",
       "      <td>1</td>\n",
       "      <td>1</td>\n",
       "      <td>1</td>\n",
       "      <td>1</td>\n",
       "      <td>0</td>\n",
       "      <td>0</td>\n",
       "      <td>1</td>\n",
       "      <td>1</td>\n",
       "      <td>1</td>\n",
       "      <td>0</td>\n",
       "      <td>0</td>\n",
       "      <td>0</td>\n",
       "      <td>1</td>\n",
       "    </tr>\n",
       "    <tr>\n",
       "      <th>2</th>\n",
       "      <td>CQ500-CT-10</td>\n",
       "      <td>1</td>\n",
       "      <td>1</td>\n",
       "      <td>0</td>\n",
       "      <td>0</td>\n",
       "      <td>0</td>\n",
       "      <td>0</td>\n",
       "      <td>1</td>\n",
       "      <td>1</td>\n",
       "      <td>0</td>\n",
       "      <td>0</td>\n",
       "      <td>0</td>\n",
       "      <td>0</td>\n",
       "      <td>1</td>\n",
       "      <td>1</td>\n",
       "      <td>0</td>\n",
       "      <td>0</td>\n",
       "      <td>0</td>\n",
       "      <td>0</td>\n",
       "    </tr>\n",
       "    <tr>\n",
       "      <th>3</th>\n",
       "      <td>CQ500-CT-100</td>\n",
       "      <td>0</td>\n",
       "      <td>0</td>\n",
       "      <td>0</td>\n",
       "      <td>0</td>\n",
       "      <td>0</td>\n",
       "      <td>0</td>\n",
       "      <td>0</td>\n",
       "      <td>0</td>\n",
       "      <td>0</td>\n",
       "      <td>0</td>\n",
       "      <td>0</td>\n",
       "      <td>0</td>\n",
       "      <td>0</td>\n",
       "      <td>0</td>\n",
       "      <td>0</td>\n",
       "      <td>0</td>\n",
       "      <td>0</td>\n",
       "      <td>0</td>\n",
       "    </tr>\n",
       "    <tr>\n",
       "      <th>4</th>\n",
       "      <td>CQ500-CT-101</td>\n",
       "      <td>0</td>\n",
       "      <td>0</td>\n",
       "      <td>0</td>\n",
       "      <td>0</td>\n",
       "      <td>0</td>\n",
       "      <td>0</td>\n",
       "      <td>0</td>\n",
       "      <td>0</td>\n",
       "      <td>0</td>\n",
       "      <td>0</td>\n",
       "      <td>0</td>\n",
       "      <td>0</td>\n",
       "      <td>0</td>\n",
       "      <td>0</td>\n",
       "      <td>0</td>\n",
       "      <td>0</td>\n",
       "      <td>0</td>\n",
       "      <td>0</td>\n",
       "    </tr>\n",
       "  </tbody>\n",
       "</table>\n",
       "</div>"
      ],
      "text/plain": [
       "           name  R1:ICH  R1:IPH  R1:IVH  R1:SDH  R1:EDH  R1:SAH  R2:ICH  \\\n",
       "0    CQ500-CT-0       1       0       0       0       0       1       0   \n",
       "1    CQ500-CT-1       1       1       0       0       0       1       1   \n",
       "2   CQ500-CT-10       1       1       0       0       0       0       1   \n",
       "3  CQ500-CT-100       0       0       0       0       0       0       0   \n",
       "4  CQ500-CT-101       0       0       0       0       0       0       0   \n",
       "\n",
       "   R2:IPH  R2:IVH  R2:SDH  R2:EDH  R2:SAH  R3:ICH  R3:IPH  R3:IVH  R3:SDH  \\\n",
       "0       0       0       0       0       0       0       0       0       0   \n",
       "1       1       1       0       0       1       1       1       0       0   \n",
       "2       1       0       0       0       0       1       1       0       0   \n",
       "3       0       0       0       0       0       0       0       0       0   \n",
       "4       0       0       0       0       0       0       0       0       0   \n",
       "\n",
       "   R3:EDH  R3:SAH  \n",
       "0       0       0  \n",
       "1       0       1  \n",
       "2       0       0  \n",
       "3       0       0  \n",
       "4       0       0  "
      ]
     },
     "execution_count": 3,
     "metadata": {},
     "output_type": "execute_result"
    }
   ],
   "source": [
    "targets = pd.read_csv(\"input/reads_ICHonly.csv\").sort_values(by=\"name\", ignore_index=True).drop(columns=\"Category\")\n",
    "print(targets.shape)\n",
    "targets.head()"
   ]
  },
  {
   "cell_type": "code",
   "execution_count": 4,
   "id": "passive-vegetation",
   "metadata": {},
   "outputs": [
    {
     "data": {
      "text/plain": [
       "Series([], Name: PatientID, dtype: object)"
      ]
     },
     "execution_count": 4,
     "metadata": {},
     "output_type": "execute_result"
    }
   ],
   "source": [
    "filt = preds[\"PatientID\"].isin(targets[\"name\"])\n",
    "preds[\"PatientID\"][~filt]"
   ]
  },
  {
   "cell_type": "code",
   "execution_count": 5,
   "id": "compressed-credit",
   "metadata": {},
   "outputs": [
    {
     "data": {
      "text/plain": [
       "(485, 7)"
      ]
     },
     "execution_count": 5,
     "metadata": {},
     "output_type": "execute_result"
    }
   ],
   "source": [
    "preds[filt].shape"
   ]
  },
  {
   "cell_type": "code",
   "execution_count": 6,
   "id": "designed-indianapolis",
   "metadata": {},
   "outputs": [
    {
     "data": {
      "text/plain": [
       "(485, 19)"
      ]
     },
     "execution_count": 6,
     "metadata": {},
     "output_type": "execute_result"
    }
   ],
   "source": [
    "filt = targets[\"name\"].isin(preds[\"PatientID\"])\n",
    "targets = targets[filt]\n",
    "targets.shape"
   ]
  },
  {
   "cell_type": "code",
   "execution_count": 7,
   "id": "opposite-genetics",
   "metadata": {},
   "outputs": [],
   "source": [
    "label_map = {\n",
    "    \"ICH\": \"any\",\n",
    "    \"EDH\": \"epidural\",\n",
    "    \"SDH\": \"subdural\",\n",
    "    \"SAH\": \"subarachnoid\",\n",
    "    \"IVH\": \"intraventricular\",\n",
    "    \"IPH\": \"intraparenchymal\"\n",
    "}\n",
    "\n",
    "def consensus_score(row):\n",
    "    for k, v in label_map.items():\n",
    "        score = row[[f'R1:{k}', f'R2:{k}', f'R3:{k}']].sum()\n",
    "        row[v] = 1 if score >= 2 else 0\n",
    "    return row\n"
   ]
  },
  {
   "cell_type": "code",
   "execution_count": 8,
   "id": "large-completion",
   "metadata": {},
   "outputs": [
    {
     "data": {
      "text/html": [
       "<div>\n",
       "<style scoped>\n",
       "    .dataframe tbody tr th:only-of-type {\n",
       "        vertical-align: middle;\n",
       "    }\n",
       "\n",
       "    .dataframe tbody tr th {\n",
       "        vertical-align: top;\n",
       "    }\n",
       "\n",
       "    .dataframe thead th {\n",
       "        text-align: right;\n",
       "    }\n",
       "</style>\n",
       "<table border=\"1\" class=\"dataframe\">\n",
       "  <thead>\n",
       "    <tr style=\"text-align: right;\">\n",
       "      <th></th>\n",
       "      <th>PatientID</th>\n",
       "      <th>any</th>\n",
       "      <th>epidural</th>\n",
       "      <th>subdural</th>\n",
       "      <th>subarachnoid</th>\n",
       "      <th>intraventricular</th>\n",
       "      <th>intraparenchymal</th>\n",
       "    </tr>\n",
       "  </thead>\n",
       "  <tbody>\n",
       "    <tr>\n",
       "      <th>0</th>\n",
       "      <td>CQ500-CT-0</td>\n",
       "      <td>0</td>\n",
       "      <td>0</td>\n",
       "      <td>0</td>\n",
       "      <td>0</td>\n",
       "      <td>0</td>\n",
       "      <td>0</td>\n",
       "    </tr>\n",
       "    <tr>\n",
       "      <th>1</th>\n",
       "      <td>CQ500-CT-1</td>\n",
       "      <td>1</td>\n",
       "      <td>0</td>\n",
       "      <td>0</td>\n",
       "      <td>1</td>\n",
       "      <td>0</td>\n",
       "      <td>1</td>\n",
       "    </tr>\n",
       "    <tr>\n",
       "      <th>2</th>\n",
       "      <td>CQ500-CT-10</td>\n",
       "      <td>1</td>\n",
       "      <td>0</td>\n",
       "      <td>0</td>\n",
       "      <td>0</td>\n",
       "      <td>0</td>\n",
       "      <td>1</td>\n",
       "    </tr>\n",
       "    <tr>\n",
       "      <th>3</th>\n",
       "      <td>CQ500-CT-100</td>\n",
       "      <td>0</td>\n",
       "      <td>0</td>\n",
       "      <td>0</td>\n",
       "      <td>0</td>\n",
       "      <td>0</td>\n",
       "      <td>0</td>\n",
       "    </tr>\n",
       "    <tr>\n",
       "      <th>4</th>\n",
       "      <td>CQ500-CT-101</td>\n",
       "      <td>0</td>\n",
       "      <td>0</td>\n",
       "      <td>0</td>\n",
       "      <td>0</td>\n",
       "      <td>0</td>\n",
       "      <td>0</td>\n",
       "    </tr>\n",
       "  </tbody>\n",
       "</table>\n",
       "</div>"
      ],
      "text/plain": [
       "      PatientID  any  epidural  subdural  subarachnoid  intraventricular  \\\n",
       "0    CQ500-CT-0    0         0         0             0                 0   \n",
       "1    CQ500-CT-1    1         0         0             1                 0   \n",
       "2   CQ500-CT-10    1         0         0             0                 0   \n",
       "3  CQ500-CT-100    0         0         0             0                 0   \n",
       "4  CQ500-CT-101    0         0         0             0                 0   \n",
       "\n",
       "   intraparenchymal  \n",
       "0                 0  \n",
       "1                 1  \n",
       "2                 1  \n",
       "3                 0  \n",
       "4                 0  "
      ]
     },
     "execution_count": 8,
     "metadata": {},
     "output_type": "execute_result"
    }
   ],
   "source": [
    "targs = targets.apply(consensus_score, axis=1).drop(columns=targets.columns[1:19]).rename(columns={\"name\": \"PatientID\"})\n",
    "targs.head()"
   ]
  },
  {
   "cell_type": "code",
   "execution_count": 9,
   "id": "conservative-album",
   "metadata": {},
   "outputs": [
    {
     "data": {
      "text/html": [
       "<div>\n",
       "<style scoped>\n",
       "    .dataframe tbody tr th:only-of-type {\n",
       "        vertical-align: middle;\n",
       "    }\n",
       "\n",
       "    .dataframe tbody tr th {\n",
       "        vertical-align: top;\n",
       "    }\n",
       "\n",
       "    .dataframe thead th {\n",
       "        text-align: right;\n",
       "    }\n",
       "</style>\n",
       "<table border=\"1\" class=\"dataframe\">\n",
       "  <thead>\n",
       "    <tr style=\"text-align: right;\">\n",
       "      <th></th>\n",
       "      <th>PatientID</th>\n",
       "      <th>any</th>\n",
       "      <th>epidural</th>\n",
       "      <th>subdural</th>\n",
       "      <th>subarachnoid</th>\n",
       "      <th>intraventricular</th>\n",
       "      <th>intraparenchymal</th>\n",
       "    </tr>\n",
       "  </thead>\n",
       "  <tbody>\n",
       "    <tr>\n",
       "      <th>0</th>\n",
       "      <td>CQ500-CT-0</td>\n",
       "      <td>0</td>\n",
       "      <td>0</td>\n",
       "      <td>0</td>\n",
       "      <td>0</td>\n",
       "      <td>0</td>\n",
       "      <td>0</td>\n",
       "    </tr>\n",
       "    <tr>\n",
       "      <th>1</th>\n",
       "      <td>CQ500-CT-1</td>\n",
       "      <td>1</td>\n",
       "      <td>0</td>\n",
       "      <td>0</td>\n",
       "      <td>1</td>\n",
       "      <td>1</td>\n",
       "      <td>1</td>\n",
       "    </tr>\n",
       "    <tr>\n",
       "      <th>2</th>\n",
       "      <td>CQ500-CT-10</td>\n",
       "      <td>1</td>\n",
       "      <td>0</td>\n",
       "      <td>0</td>\n",
       "      <td>0</td>\n",
       "      <td>0</td>\n",
       "      <td>1</td>\n",
       "    </tr>\n",
       "    <tr>\n",
       "      <th>3</th>\n",
       "      <td>CQ500-CT-100</td>\n",
       "      <td>0</td>\n",
       "      <td>0</td>\n",
       "      <td>0</td>\n",
       "      <td>0</td>\n",
       "      <td>0</td>\n",
       "      <td>0</td>\n",
       "    </tr>\n",
       "    <tr>\n",
       "      <th>4</th>\n",
       "      <td>CQ500-CT-101</td>\n",
       "      <td>0</td>\n",
       "      <td>0</td>\n",
       "      <td>0</td>\n",
       "      <td>0</td>\n",
       "      <td>0</td>\n",
       "      <td>0</td>\n",
       "    </tr>\n",
       "  </tbody>\n",
       "</table>\n",
       "</div>"
      ],
      "text/plain": [
       "      PatientID  any  epidural  subdural  subarachnoid  intraventricular  \\\n",
       "0    CQ500-CT-0    0         0         0             0                 0   \n",
       "1    CQ500-CT-1    1         0         0             1                 1   \n",
       "2   CQ500-CT-10    1         0         0             0                 0   \n",
       "3  CQ500-CT-100    0         0         0             0                 0   \n",
       "4  CQ500-CT-101    0         0         0             0                 0   \n",
       "\n",
       "   intraparenchymal  \n",
       "0                 0  \n",
       "1                 1  \n",
       "2                 1  \n",
       "3                 0  \n",
       "4                 0  "
      ]
     },
     "execution_count": 9,
     "metadata": {},
     "output_type": "execute_result"
    }
   ],
   "source": [
    "preds.head()"
   ]
  },
  {
   "cell_type": "code",
   "execution_count": 12,
   "id": "corporate-courtesy",
   "metadata": {},
   "outputs": [],
   "source": [
    "assert list(preds[\"PatientID\"]) == list(targs[\"PatientID\"])"
   ]
  },
  {
   "cell_type": "code",
   "execution_count": 13,
   "id": "pediatric-divorce",
   "metadata": {},
   "outputs": [
    {
     "data": {
      "text/plain": [
       "0.8907216494845361"
      ]
     },
     "execution_count": 13,
     "metadata": {},
     "output_type": "execute_result"
    }
   ],
   "source": [
    "skm.accuracy_score(preds[\"any\"], targs[\"any\"])"
   ]
  },
  {
   "cell_type": "code",
   "execution_count": 14,
   "id": "brilliant-external",
   "metadata": {},
   "outputs": [
    {
     "data": {
      "text/plain": [
       "0.9835051546391752"
      ]
     },
     "execution_count": 14,
     "metadata": {},
     "output_type": "execute_result"
    }
   ],
   "source": [
    "skm.accuracy_score(preds[\"epidural\"], targs[\"epidural\"])"
   ]
  },
  {
   "cell_type": "code",
   "execution_count": 15,
   "id": "dried-color",
   "metadata": {},
   "outputs": [
    {
     "data": {
      "text/plain": [
       "0.8989690721649485"
      ]
     },
     "execution_count": 15,
     "metadata": {},
     "output_type": "execute_result"
    }
   ],
   "source": [
    "skm.accuracy_score(preds[\"subdural\"], targs[\"subdural\"])"
   ]
  },
  {
   "cell_type": "code",
   "execution_count": 16,
   "id": "worse-resource",
   "metadata": {},
   "outputs": [
    {
     "data": {
      "text/plain": [
       "0.9298969072164949"
      ]
     },
     "execution_count": 16,
     "metadata": {},
     "output_type": "execute_result"
    }
   ],
   "source": [
    "skm.accuracy_score(preds[\"subarachnoid\"], targs[\"subarachnoid\"])"
   ]
  },
  {
   "cell_type": "code",
   "execution_count": 17,
   "id": "perfect-windows",
   "metadata": {},
   "outputs": [
    {
     "data": {
      "text/plain": [
       "0.9443298969072165"
      ]
     },
     "execution_count": 17,
     "metadata": {},
     "output_type": "execute_result"
    }
   ],
   "source": [
    "skm.accuracy_score(preds[\"intraventricular\"], targs[\"intraventricular\"])"
   ]
  },
  {
   "cell_type": "code",
   "execution_count": 18,
   "id": "documented-attendance",
   "metadata": {},
   "outputs": [
    {
     "data": {
      "text/plain": [
       "0.9257731958762887"
      ]
     },
     "execution_count": 18,
     "metadata": {},
     "output_type": "execute_result"
    }
   ],
   "source": [
    "skm.accuracy_score(preds[\"intraparenchymal\"], targs[\"intraparenchymal\"])"
   ]
  },
  {
   "cell_type": "code",
   "execution_count": 23,
   "id": "martial-newport",
   "metadata": {},
   "outputs": [
    {
     "data": {
      "text/html": [
       "<div>\n",
       "<style scoped>\n",
       "    .dataframe tbody tr th:only-of-type {\n",
       "        vertical-align: middle;\n",
       "    }\n",
       "\n",
       "    .dataframe tbody tr th {\n",
       "        vertical-align: top;\n",
       "    }\n",
       "\n",
       "    .dataframe thead th {\n",
       "        text-align: right;\n",
       "    }\n",
       "</style>\n",
       "<table border=\"1\" class=\"dataframe\">\n",
       "  <thead>\n",
       "    <tr style=\"text-align: right;\">\n",
       "      <th></th>\n",
       "      <th>PatientID</th>\n",
       "      <th>any_pred</th>\n",
       "      <th>epidural_pred</th>\n",
       "      <th>subdural_pred</th>\n",
       "      <th>subarachnoid_pred</th>\n",
       "      <th>intraventricular_pred</th>\n",
       "      <th>intraparenchymal_pred</th>\n",
       "      <th>any_targ</th>\n",
       "      <th>epidural_targ</th>\n",
       "      <th>subdural_targ</th>\n",
       "      <th>subarachnoid_targ</th>\n",
       "      <th>intraventricular_targ</th>\n",
       "      <th>intraparenchymal_targ</th>\n",
       "    </tr>\n",
       "  </thead>\n",
       "  <tbody>\n",
       "    <tr>\n",
       "      <th>0</th>\n",
       "      <td>CQ500-CT-0</td>\n",
       "      <td>0</td>\n",
       "      <td>0</td>\n",
       "      <td>0</td>\n",
       "      <td>0</td>\n",
       "      <td>0</td>\n",
       "      <td>0</td>\n",
       "      <td>0</td>\n",
       "      <td>0</td>\n",
       "      <td>0</td>\n",
       "      <td>0</td>\n",
       "      <td>0</td>\n",
       "      <td>0</td>\n",
       "    </tr>\n",
       "    <tr>\n",
       "      <th>1</th>\n",
       "      <td>CQ500-CT-1</td>\n",
       "      <td>1</td>\n",
       "      <td>0</td>\n",
       "      <td>0</td>\n",
       "      <td>1</td>\n",
       "      <td>1</td>\n",
       "      <td>1</td>\n",
       "      <td>1</td>\n",
       "      <td>0</td>\n",
       "      <td>0</td>\n",
       "      <td>1</td>\n",
       "      <td>0</td>\n",
       "      <td>1</td>\n",
       "    </tr>\n",
       "    <tr>\n",
       "      <th>2</th>\n",
       "      <td>CQ500-CT-10</td>\n",
       "      <td>1</td>\n",
       "      <td>0</td>\n",
       "      <td>0</td>\n",
       "      <td>0</td>\n",
       "      <td>0</td>\n",
       "      <td>1</td>\n",
       "      <td>1</td>\n",
       "      <td>0</td>\n",
       "      <td>0</td>\n",
       "      <td>0</td>\n",
       "      <td>0</td>\n",
       "      <td>1</td>\n",
       "    </tr>\n",
       "    <tr>\n",
       "      <th>3</th>\n",
       "      <td>CQ500-CT-100</td>\n",
       "      <td>0</td>\n",
       "      <td>0</td>\n",
       "      <td>0</td>\n",
       "      <td>0</td>\n",
       "      <td>0</td>\n",
       "      <td>0</td>\n",
       "      <td>0</td>\n",
       "      <td>0</td>\n",
       "      <td>0</td>\n",
       "      <td>0</td>\n",
       "      <td>0</td>\n",
       "      <td>0</td>\n",
       "    </tr>\n",
       "    <tr>\n",
       "      <th>4</th>\n",
       "      <td>CQ500-CT-101</td>\n",
       "      <td>0</td>\n",
       "      <td>0</td>\n",
       "      <td>0</td>\n",
       "      <td>0</td>\n",
       "      <td>0</td>\n",
       "      <td>0</td>\n",
       "      <td>0</td>\n",
       "      <td>0</td>\n",
       "      <td>0</td>\n",
       "      <td>0</td>\n",
       "      <td>0</td>\n",
       "      <td>0</td>\n",
       "    </tr>\n",
       "  </tbody>\n",
       "</table>\n",
       "</div>"
      ],
      "text/plain": [
       "      PatientID  any_pred  epidural_pred  subdural_pred  subarachnoid_pred  \\\n",
       "0    CQ500-CT-0         0              0              0                  0   \n",
       "1    CQ500-CT-1         1              0              0                  1   \n",
       "2   CQ500-CT-10         1              0              0                  0   \n",
       "3  CQ500-CT-100         0              0              0                  0   \n",
       "4  CQ500-CT-101         0              0              0                  0   \n",
       "\n",
       "   intraventricular_pred  intraparenchymal_pred  any_targ  epidural_targ  \\\n",
       "0                      0                      0         0              0   \n",
       "1                      1                      1         1              0   \n",
       "2                      0                      1         1              0   \n",
       "3                      0                      0         0              0   \n",
       "4                      0                      0         0              0   \n",
       "\n",
       "   subdural_targ  subarachnoid_targ  intraventricular_targ  \\\n",
       "0              0                  0                      0   \n",
       "1              0                  1                      0   \n",
       "2              0                  0                      0   \n",
       "3              0                  0                      0   \n",
       "4              0                  0                      0   \n",
       "\n",
       "   intraparenchymal_targ  \n",
       "0                      0  \n",
       "1                      1  \n",
       "2                      1  \n",
       "3                      0  \n",
       "4                      0  "
      ]
     },
     "execution_count": 23,
     "metadata": {},
     "output_type": "execute_result"
    }
   ],
   "source": [
    "df = pd.merge(preds, targs, on=\"PatientID\", suffixes=[\"_pred\", \"_targ\"])\n",
    "df.head()"
   ]
  },
  {
   "cell_type": "code",
   "execution_count": 26,
   "id": "smart-failing",
   "metadata": {},
   "outputs": [
    {
     "name": "stdout",
     "output_type": "stream",
     "text": [
      "(53, 13)\n"
     ]
    },
    {
     "data": {
      "text/html": [
       "<div>\n",
       "<style scoped>\n",
       "    .dataframe tbody tr th:only-of-type {\n",
       "        vertical-align: middle;\n",
       "    }\n",
       "\n",
       "    .dataframe tbody tr th {\n",
       "        vertical-align: top;\n",
       "    }\n",
       "\n",
       "    .dataframe thead th {\n",
       "        text-align: right;\n",
       "    }\n",
       "</style>\n",
       "<table border=\"1\" class=\"dataframe\">\n",
       "  <thead>\n",
       "    <tr style=\"text-align: right;\">\n",
       "      <th></th>\n",
       "      <th>PatientID</th>\n",
       "      <th>any_pred</th>\n",
       "      <th>epidural_pred</th>\n",
       "      <th>subdural_pred</th>\n",
       "      <th>subarachnoid_pred</th>\n",
       "      <th>intraventricular_pred</th>\n",
       "      <th>intraparenchymal_pred</th>\n",
       "      <th>any_targ</th>\n",
       "      <th>epidural_targ</th>\n",
       "      <th>subdural_targ</th>\n",
       "      <th>subarachnoid_targ</th>\n",
       "      <th>intraventricular_targ</th>\n",
       "      <th>intraparenchymal_targ</th>\n",
       "    </tr>\n",
       "  </thead>\n",
       "  <tbody>\n",
       "    <tr>\n",
       "      <th>5</th>\n",
       "      <td>CQ500-CT-102</td>\n",
       "      <td>0</td>\n",
       "      <td>0</td>\n",
       "      <td>0</td>\n",
       "      <td>0</td>\n",
       "      <td>0</td>\n",
       "      <td>0</td>\n",
       "      <td>1</td>\n",
       "      <td>0</td>\n",
       "      <td>0</td>\n",
       "      <td>0</td>\n",
       "      <td>0</td>\n",
       "      <td>1</td>\n",
       "    </tr>\n",
       "    <tr>\n",
       "      <th>48</th>\n",
       "      <td>CQ500-CT-143</td>\n",
       "      <td>1</td>\n",
       "      <td>0</td>\n",
       "      <td>0</td>\n",
       "      <td>0</td>\n",
       "      <td>0</td>\n",
       "      <td>1</td>\n",
       "      <td>0</td>\n",
       "      <td>0</td>\n",
       "      <td>0</td>\n",
       "      <td>0</td>\n",
       "      <td>0</td>\n",
       "      <td>0</td>\n",
       "    </tr>\n",
       "    <tr>\n",
       "      <th>49</th>\n",
       "      <td>CQ500-CT-144</td>\n",
       "      <td>0</td>\n",
       "      <td>0</td>\n",
       "      <td>0</td>\n",
       "      <td>0</td>\n",
       "      <td>0</td>\n",
       "      <td>0</td>\n",
       "      <td>1</td>\n",
       "      <td>0</td>\n",
       "      <td>0</td>\n",
       "      <td>0</td>\n",
       "      <td>0</td>\n",
       "      <td>1</td>\n",
       "    </tr>\n",
       "    <tr>\n",
       "      <th>59</th>\n",
       "      <td>CQ500-CT-153</td>\n",
       "      <td>1</td>\n",
       "      <td>0</td>\n",
       "      <td>1</td>\n",
       "      <td>0</td>\n",
       "      <td>0</td>\n",
       "      <td>1</td>\n",
       "      <td>0</td>\n",
       "      <td>0</td>\n",
       "      <td>0</td>\n",
       "      <td>0</td>\n",
       "      <td>0</td>\n",
       "      <td>0</td>\n",
       "    </tr>\n",
       "    <tr>\n",
       "      <th>66</th>\n",
       "      <td>CQ500-CT-16</td>\n",
       "      <td>1</td>\n",
       "      <td>0</td>\n",
       "      <td>0</td>\n",
       "      <td>0</td>\n",
       "      <td>0</td>\n",
       "      <td>0</td>\n",
       "      <td>0</td>\n",
       "      <td>0</td>\n",
       "      <td>0</td>\n",
       "      <td>0</td>\n",
       "      <td>0</td>\n",
       "      <td>0</td>\n",
       "    </tr>\n",
       "  </tbody>\n",
       "</table>\n",
       "</div>"
      ],
      "text/plain": [
       "       PatientID  any_pred  epidural_pred  subdural_pred  subarachnoid_pred  \\\n",
       "5   CQ500-CT-102         0              0              0                  0   \n",
       "48  CQ500-CT-143         1              0              0                  0   \n",
       "49  CQ500-CT-144         0              0              0                  0   \n",
       "59  CQ500-CT-153         1              0              1                  0   \n",
       "66   CQ500-CT-16         1              0              0                  0   \n",
       "\n",
       "    intraventricular_pred  intraparenchymal_pred  any_targ  epidural_targ  \\\n",
       "5                       0                      0         1              0   \n",
       "48                      0                      1         0              0   \n",
       "49                      0                      0         1              0   \n",
       "59                      0                      1         0              0   \n",
       "66                      0                      0         0              0   \n",
       "\n",
       "    subdural_targ  subarachnoid_targ  intraventricular_targ  \\\n",
       "5               0                  0                      0   \n",
       "48              0                  0                      0   \n",
       "49              0                  0                      0   \n",
       "59              0                  0                      0   \n",
       "66              0                  0                      0   \n",
       "\n",
       "    intraparenchymal_targ  \n",
       "5                       1  \n",
       "48                      0  \n",
       "49                      1  \n",
       "59                      0  \n",
       "66                      0  "
      ]
     },
     "execution_count": 26,
     "metadata": {},
     "output_type": "execute_result"
    }
   ],
   "source": [
    "filt = df[\"any_pred\"] != df[\"any_targ\"]\n",
    "discord = df[filt]\n",
    "print(discord.shape)\n",
    "discord.head()"
   ]
  },
  {
   "cell_type": "code",
   "execution_count": null,
   "id": "northern-smile",
   "metadata": {},
   "outputs": [],
   "source": []
  }
 ],
 "metadata": {
  "kernelspec": {
   "display_name": "Python 3",
   "language": "python",
   "name": "python3"
  },
  "language_info": {
   "codemirror_mode": {
    "name": "ipython",
    "version": 3
   },
   "file_extension": ".py",
   "mimetype": "text/x-python",
   "name": "python",
   "nbconvert_exporter": "python",
   "pygments_lexer": "ipython3",
   "version": "3.8.8"
  }
 },
 "nbformat": 4,
 "nbformat_minor": 5
}
